{
 "cells": [
  {
   "cell_type": "code",
   "execution_count": 21,
   "metadata": {},
   "outputs": [],
   "source": [
    "import pandas as pd\n",
    "import numpy as np\n",
    "import matplotlib.pyplot as plt\n",
    "import seaborn as sns\n",
    "from sklearn.model_selection import train_test_split\n",
    "from sklearn.metrics import r2_score, mean_squared_error, mean_absolute_error\n",
    "from sklearn.preprocessing import MinMaxScaler\n",
    "from sklearn.linear_model import LinearRegression, Lasso, Ridge, ElasticNet\n",
    "from sklearn.neural_network import MLPRegressor\n",
    "from sklearn.ensemble import RandomForestRegressor\n",
    "from xgboost import XGBRegressor\n",
    "from lightgbm import LGBMRegressor\n",
    "from sklearn.neighbors import KNeighborsRegressor\n",
    "from sklearn.tree import DecisionTreeRegressor\n",
    "import pickle\n",
    "from IPython.display import clear_output"
   ]
  },
  {
   "attachments": {},
   "cell_type": "markdown",
   "metadata": {},
   "source": [
    "# `Functions`"
   ]
  },
  {
   "cell_type": "code",
   "execution_count": 22,
   "metadata": {},
   "outputs": [],
   "source": [
    "def display_df_info(dataframe):\n",
    "    print(f\"Shape is: {dataframe.shape}\")\n",
    "    display(dataframe.head())\n",
    "\n",
    "\n",
    "def get_filtered_data(path_csv_file, element_type, new_value_name):\n",
    "    data = pd.read_csv(path_csv_file)\n",
    "    data = data[(data['country_code'].isna() == False) & (data['country_code'] != 'OWID_WRL')]\n",
    "    data.rename(columns={'year': 'date'}, inplace=True)\n",
    "    data['date'] = pd.to_datetime(data['date'], errors='coerce')\n",
    "    data['year'] = data['date'].dt.year\n",
    "    data.drop('date', axis=1, inplace=True)\n",
    "\n",
    "    data = data[data['element'] == element_type]\n",
    "    data.rename(columns={'value': new_value_name}, inplace=True)\n",
    "    \n",
    "    return data[['country_code', 'year', new_value_name]]\n",
    "\n",
    "\n",
    "def fill_na_with_mean(dataframe, column_name):\n",
    "    mean = dataframe[column_name].mean()\n",
    "    dataframe[column_name] = dataframe[column_name].fillna(mean)\n",
    "\n",
    "    return dataframe\n",
    "\n",
    "\n",
    "def display_heatmap(dataframe):\n",
    "    corr=dataframe.corr()\n",
    "\n",
    "    mask=np.triu(np.ones_like(corr, dtype=bool))     # generate a mask for the upper triangle\n",
    "\n",
    "    f, ax=plt.subplots(figsize=(11, 9))                 # set up the matplotlib figure\n",
    "\n",
    "    cmap=sns.diverging_palette(220, 10, as_cmap=True)   # generate a custom diverging colormap\n",
    "\n",
    "    sns.heatmap(corr, mask=mask, cmap=cmap,             # draw the heatmap with the mask and correct aspect ratio\n",
    "                vmax=.3, center=0, square=True,\n",
    "                linewidths=.5, cbar_kws={\"shrink\": .5})"
   ]
  },
  {
   "cell_type": "code",
   "execution_count": 23,
   "metadata": {},
   "outputs": [],
   "source": [
    "def compare_models(models, dataframe, label):\n",
    "    \n",
    "    fitted_models_list = []\n",
    "    min_max_scaler_list = []\n",
    "\n",
    "    r2_list = []\n",
    "    mse_list = []\n",
    "    rmse_list = []\n",
    "    mae_list = []\n",
    "\n",
    "    for model in models:\n",
    "\n",
    "        print(f\"====== {model} ======\")\n",
    "\n",
    "        dataframe = dataframe.sample(frac=1)\n",
    "\n",
    "        y = dataframe[label]\n",
    "        X = dataframe.drop(label, axis=1)\n",
    "        X_train, X_test, y_train, y_test = train_test_split(X, y, test_size=0.2)\n",
    "\n",
    "        # Scaling data = X_train\n",
    "        min_max_scaler = MinMaxScaler().fit(X_train)\n",
    "        X_train_normalized = min_max_scaler.transform(X_train)\n",
    "        X_train_normalized = pd.DataFrame(X_train_normalized)\n",
    "\n",
    "        # Scaling data = X_test\n",
    "        X_test_normalized = min_max_scaler.transform(X_test)\n",
    "        X_test_normalized = pd.DataFrame(X_test_normalized)\n",
    "\n",
    "        model.fit(X_train_normalized, y_train)\n",
    "\n",
    "        # Make predictions on the test data\n",
    "        y_pred = model.predict(X_test_normalized)\n",
    "\n",
    "        # R2 validation\n",
    "        r2 = r2_score(y_test, y_pred)\n",
    "        print(\"R2:\", r2)\n",
    "\n",
    "        # MSE validation\n",
    "        mse=mean_squared_error(y_test, y_pred)\n",
    "        print(\"MSE:\", mse)\n",
    "\n",
    "        # RMSE validation\n",
    "        rmse = np.sqrt(mse)\n",
    "        print(\"RMSE:\", rmse)\n",
    "\n",
    "        # MAE validation\n",
    "        mae=mean_absolute_error(y_test, y_pred)\n",
    "        print(\"MAE:\", mae)\n",
    "\n",
    "        fitted_models_list.append({\n",
    "            'model': model,\n",
    "            'min_max_scaler' : min_max_scaler\n",
    "        })\n",
    "        min_max_scaler_list.append(min_max_scaler)\n",
    "\n",
    "        r2_list.append(r2)\n",
    "        mse_list.append(mse)\n",
    "        rmse_list.append(rmse)\n",
    "        mae_list.append(mae)\n",
    "\n",
    "\n",
    "    summary = {\n",
    "        'Algorithm': [item['model'] for item in fitted_models_list],\n",
    "        'R2': r2_list,\n",
    "        'MSE': mse_list,\n",
    "        'RMSE': rmse_list,\n",
    "        'MAE': mae_list\n",
    "    }\n",
    "    summary = pd.DataFrame(summary)\n",
    "\n",
    "    return {\n",
    "        'summary' : summary,\n",
    "        'models' : fitted_models_list\n",
    "    }"
   ]
  },
  {
   "cell_type": "code",
   "execution_count": 24,
   "metadata": {},
   "outputs": [],
   "source": [
    "def display_ordered_rmse(dataframe_summary):\n",
    "    clear_output()\n",
    "    display(dataframe_summary.sort_values(by='RMSE'))"
   ]
  },
  {
   "attachments": {},
   "cell_type": "markdown",
   "metadata": {},
   "source": [
    "# `UN_paper_pulp_import_export.csv`"
   ]
  },
  {
   "cell_type": "code",
   "execution_count": 25,
   "metadata": {},
   "outputs": [],
   "source": [
    "file = 'wood-pulp-business/data/cleaned/UN_paper_pulp_import_export.csv'"
   ]
  },
  {
   "attachments": {},
   "cell_type": "markdown",
   "metadata": {},
   "source": [
    "## `Productions`"
   ]
  },
  {
   "cell_type": "code",
   "execution_count": 26,
   "metadata": {},
   "outputs": [
    {
     "name": "stdout",
     "output_type": "stream",
     "text": [
      "Shape is: (4346, 3)\n"
     ]
    },
    {
     "data": {
      "text/html": [
       "<div>\n",
       "<style scoped>\n",
       "    .dataframe tbody tr th:only-of-type {\n",
       "        vertical-align: middle;\n",
       "    }\n",
       "\n",
       "    .dataframe tbody tr th {\n",
       "        vertical-align: top;\n",
       "    }\n",
       "\n",
       "    .dataframe thead th {\n",
       "        text-align: right;\n",
       "    }\n",
       "</style>\n",
       "<table border=\"1\" class=\"dataframe\">\n",
       "  <thead>\n",
       "    <tr style=\"text-align: right;\">\n",
       "      <th></th>\n",
       "      <th>country_code</th>\n",
       "      <th>year</th>\n",
       "      <th>paper_pulp_prod_tonnes</th>\n",
       "    </tr>\n",
       "  </thead>\n",
       "  <tbody>\n",
       "    <tr>\n",
       "      <th>402</th>\n",
       "      <td>ALB</td>\n",
       "      <td>2020</td>\n",
       "      <td>0</td>\n",
       "    </tr>\n",
       "    <tr>\n",
       "      <th>403</th>\n",
       "      <td>ALB</td>\n",
       "      <td>2019</td>\n",
       "      <td>0</td>\n",
       "    </tr>\n",
       "    <tr>\n",
       "      <th>404</th>\n",
       "      <td>ALB</td>\n",
       "      <td>2018</td>\n",
       "      <td>0</td>\n",
       "    </tr>\n",
       "    <tr>\n",
       "      <th>405</th>\n",
       "      <td>ALB</td>\n",
       "      <td>2017</td>\n",
       "      <td>0</td>\n",
       "    </tr>\n",
       "    <tr>\n",
       "      <th>406</th>\n",
       "      <td>ALB</td>\n",
       "      <td>2016</td>\n",
       "      <td>0</td>\n",
       "    </tr>\n",
       "  </tbody>\n",
       "</table>\n",
       "</div>"
      ],
      "text/plain": [
       "    country_code  year  paper_pulp_prod_tonnes\n",
       "402          ALB  2020                       0\n",
       "403          ALB  2019                       0\n",
       "404          ALB  2018                       0\n",
       "405          ALB  2017                       0\n",
       "406          ALB  2016                       0"
      ]
     },
     "metadata": {},
     "output_type": "display_data"
    }
   ],
   "source": [
    "paper_pulp_production_data = get_filtered_data(file, 'Production', 'paper_pulp_prod_tonnes')\n",
    "paper_pulp_production_data.to_csv('data/paper_pulp_production_data.csv', index=False)\n",
    "display_df_info(paper_pulp_production_data)"
   ]
  },
  {
   "attachments": {},
   "cell_type": "markdown",
   "metadata": {},
   "source": [
    "## `Exports`"
   ]
  },
  {
   "cell_type": "code",
   "execution_count": 27,
   "metadata": {},
   "outputs": [
    {
     "name": "stdout",
     "output_type": "stream",
     "text": [
      "Shape is: (4663, 3)\n"
     ]
    },
    {
     "data": {
      "text/html": [
       "<div>\n",
       "<style scoped>\n",
       "    .dataframe tbody tr th:only-of-type {\n",
       "        vertical-align: middle;\n",
       "    }\n",
       "\n",
       "    .dataframe tbody tr th {\n",
       "        vertical-align: top;\n",
       "    }\n",
       "\n",
       "    .dataframe thead th {\n",
       "        text-align: right;\n",
       "    }\n",
       "</style>\n",
       "<table border=\"1\" class=\"dataframe\">\n",
       "  <thead>\n",
       "    <tr style=\"text-align: right;\">\n",
       "      <th></th>\n",
       "      <th>country_code</th>\n",
       "      <th>year</th>\n",
       "      <th>paper_pulp_export_tonnes</th>\n",
       "    </tr>\n",
       "  </thead>\n",
       "  <tbody>\n",
       "    <tr>\n",
       "      <th>56</th>\n",
       "      <td>AFG</td>\n",
       "      <td>2020</td>\n",
       "      <td>22</td>\n",
       "    </tr>\n",
       "    <tr>\n",
       "      <th>57</th>\n",
       "      <td>AFG</td>\n",
       "      <td>2019</td>\n",
       "      <td>22</td>\n",
       "    </tr>\n",
       "    <tr>\n",
       "      <th>58</th>\n",
       "      <td>AFG</td>\n",
       "      <td>2018</td>\n",
       "      <td>22</td>\n",
       "    </tr>\n",
       "    <tr>\n",
       "      <th>59</th>\n",
       "      <td>AFG</td>\n",
       "      <td>2017</td>\n",
       "      <td>19</td>\n",
       "    </tr>\n",
       "    <tr>\n",
       "      <th>60</th>\n",
       "      <td>AFG</td>\n",
       "      <td>2016</td>\n",
       "      <td>19</td>\n",
       "    </tr>\n",
       "  </tbody>\n",
       "</table>\n",
       "</div>"
      ],
      "text/plain": [
       "   country_code  year  paper_pulp_export_tonnes\n",
       "56          AFG  2020                        22\n",
       "57          AFG  2019                        22\n",
       "58          AFG  2018                        22\n",
       "59          AFG  2017                        19\n",
       "60          AFG  2016                        19"
      ]
     },
     "metadata": {},
     "output_type": "display_data"
    }
   ],
   "source": [
    "paper_pulp_export_data = get_filtered_data(file, 'Export Quantity', 'paper_pulp_export_tonnes')\n",
    "paper_pulp_export_data.to_csv('data/paper_pulp_export_data.csv', index=False)\n",
    "display_df_info(paper_pulp_export_data)"
   ]
  },
  {
   "attachments": {},
   "cell_type": "markdown",
   "metadata": {},
   "source": [
    "## `Imports`"
   ]
  },
  {
   "cell_type": "code",
   "execution_count": 28,
   "metadata": {},
   "outputs": [
    {
     "name": "stdout",
     "output_type": "stream",
     "text": [
      "Shape is: (6358, 3)\n"
     ]
    },
    {
     "data": {
      "text/html": [
       "<div>\n",
       "<style scoped>\n",
       "    .dataframe tbody tr th:only-of-type {\n",
       "        vertical-align: middle;\n",
       "    }\n",
       "\n",
       "    .dataframe tbody tr th {\n",
       "        vertical-align: top;\n",
       "    }\n",
       "\n",
       "    .dataframe thead th {\n",
       "        text-align: right;\n",
       "    }\n",
       "</style>\n",
       "<table border=\"1\" class=\"dataframe\">\n",
       "  <thead>\n",
       "    <tr style=\"text-align: right;\">\n",
       "      <th></th>\n",
       "      <th>country_code</th>\n",
       "      <th>year</th>\n",
       "      <th>paper_pulp_import_tonnes</th>\n",
       "    </tr>\n",
       "  </thead>\n",
       "  <tbody>\n",
       "    <tr>\n",
       "      <th>0</th>\n",
       "      <td>AFG</td>\n",
       "      <td>2020</td>\n",
       "      <td>233</td>\n",
       "    </tr>\n",
       "    <tr>\n",
       "      <th>1</th>\n",
       "      <td>AFG</td>\n",
       "      <td>2019</td>\n",
       "      <td>646</td>\n",
       "    </tr>\n",
       "    <tr>\n",
       "      <th>2</th>\n",
       "      <td>AFG</td>\n",
       "      <td>2018</td>\n",
       "      <td>140</td>\n",
       "    </tr>\n",
       "    <tr>\n",
       "      <th>3</th>\n",
       "      <td>AFG</td>\n",
       "      <td>2017</td>\n",
       "      <td>45</td>\n",
       "    </tr>\n",
       "    <tr>\n",
       "      <th>4</th>\n",
       "      <td>AFG</td>\n",
       "      <td>2016</td>\n",
       "      <td>291</td>\n",
       "    </tr>\n",
       "  </tbody>\n",
       "</table>\n",
       "</div>"
      ],
      "text/plain": [
       "  country_code  year  paper_pulp_import_tonnes\n",
       "0          AFG  2020                       233\n",
       "1          AFG  2019                       646\n",
       "2          AFG  2018                       140\n",
       "3          AFG  2017                        45\n",
       "4          AFG  2016                       291"
      ]
     },
     "metadata": {},
     "output_type": "display_data"
    }
   ],
   "source": [
    "paper_pulp_import_data = get_filtered_data(file, 'Import Quantity', 'paper_pulp_import_tonnes')\n",
    "paper_pulp_import_data.to_csv('data/paper_pulp_import_data.csv', index=False)\n",
    "display_df_info(paper_pulp_import_data)"
   ]
  },
  {
   "attachments": {},
   "cell_type": "markdown",
   "metadata": {},
   "source": [
    "# `UN_wood_pulp_import_export.csv`"
   ]
  },
  {
   "cell_type": "code",
   "execution_count": 29,
   "metadata": {},
   "outputs": [],
   "source": [
    "file = 'wood-pulp-business/data/cleaned/UN_wood_pulp_import_export.csv'"
   ]
  },
  {
   "attachments": {},
   "cell_type": "markdown",
   "metadata": {},
   "source": [
    "## `Productions`"
   ]
  },
  {
   "cell_type": "code",
   "execution_count": 30,
   "metadata": {},
   "outputs": [
    {
     "name": "stdout",
     "output_type": "stream",
     "text": [
      "Shape is: (3645, 3)\n"
     ]
    },
    {
     "data": {
      "text/html": [
       "<div>\n",
       "<style scoped>\n",
       "    .dataframe tbody tr th:only-of-type {\n",
       "        vertical-align: middle;\n",
       "    }\n",
       "\n",
       "    .dataframe tbody tr th {\n",
       "        vertical-align: top;\n",
       "    }\n",
       "\n",
       "    .dataframe thead th {\n",
       "        text-align: right;\n",
       "    }\n",
       "</style>\n",
       "<table border=\"1\" class=\"dataframe\">\n",
       "  <thead>\n",
       "    <tr style=\"text-align: right;\">\n",
       "      <th></th>\n",
       "      <th>country_code</th>\n",
       "      <th>year</th>\n",
       "      <th>wood_pulp_production_tonnes</th>\n",
       "    </tr>\n",
       "  </thead>\n",
       "  <tbody>\n",
       "    <tr>\n",
       "      <th>408</th>\n",
       "      <td>ALB</td>\n",
       "      <td>2020</td>\n",
       "      <td>0</td>\n",
       "    </tr>\n",
       "    <tr>\n",
       "      <th>409</th>\n",
       "      <td>ALB</td>\n",
       "      <td>2019</td>\n",
       "      <td>0</td>\n",
       "    </tr>\n",
       "    <tr>\n",
       "      <th>410</th>\n",
       "      <td>ALB</td>\n",
       "      <td>2018</td>\n",
       "      <td>0</td>\n",
       "    </tr>\n",
       "    <tr>\n",
       "      <th>411</th>\n",
       "      <td>ALB</td>\n",
       "      <td>2017</td>\n",
       "      <td>0</td>\n",
       "    </tr>\n",
       "    <tr>\n",
       "      <th>412</th>\n",
       "      <td>ALB</td>\n",
       "      <td>2016</td>\n",
       "      <td>0</td>\n",
       "    </tr>\n",
       "  </tbody>\n",
       "</table>\n",
       "</div>"
      ],
      "text/plain": [
       "    country_code  year  wood_pulp_production_tonnes\n",
       "408          ALB  2020                            0\n",
       "409          ALB  2019                            0\n",
       "410          ALB  2018                            0\n",
       "411          ALB  2017                            0\n",
       "412          ALB  2016                            0"
      ]
     },
     "metadata": {},
     "output_type": "display_data"
    }
   ],
   "source": [
    "wood_pulp_production_data = get_filtered_data(file, 'Production', 'wood_pulp_production_tonnes')\n",
    "wood_pulp_production_data.to_csv('data/wood_pulp_production_data.csv', index=False)\n",
    "display_df_info(wood_pulp_production_data)"
   ]
  },
  {
   "attachments": {},
   "cell_type": "markdown",
   "metadata": {},
   "source": [
    "## `Exports`"
   ]
  },
  {
   "cell_type": "code",
   "execution_count": 31,
   "metadata": {},
   "outputs": [
    {
     "name": "stdout",
     "output_type": "stream",
     "text": [
      "Shape is: (4555, 3)\n"
     ]
    },
    {
     "data": {
      "text/html": [
       "<div>\n",
       "<style scoped>\n",
       "    .dataframe tbody tr th:only-of-type {\n",
       "        vertical-align: middle;\n",
       "    }\n",
       "\n",
       "    .dataframe tbody tr th {\n",
       "        vertical-align: top;\n",
       "    }\n",
       "\n",
       "    .dataframe thead th {\n",
       "        text-align: right;\n",
       "    }\n",
       "</style>\n",
       "<table border=\"1\" class=\"dataframe\">\n",
       "  <thead>\n",
       "    <tr style=\"text-align: right;\">\n",
       "      <th></th>\n",
       "      <th>country_code</th>\n",
       "      <th>year</th>\n",
       "      <th>wood_pulp_export_tonnes</th>\n",
       "    </tr>\n",
       "  </thead>\n",
       "  <tbody>\n",
       "    <tr>\n",
       "      <th>56</th>\n",
       "      <td>AFG</td>\n",
       "      <td>2020</td>\n",
       "      <td>38</td>\n",
       "    </tr>\n",
       "    <tr>\n",
       "      <th>57</th>\n",
       "      <td>AFG</td>\n",
       "      <td>2019</td>\n",
       "      <td>38</td>\n",
       "    </tr>\n",
       "    <tr>\n",
       "      <th>58</th>\n",
       "      <td>AFG</td>\n",
       "      <td>2018</td>\n",
       "      <td>38</td>\n",
       "    </tr>\n",
       "    <tr>\n",
       "      <th>59</th>\n",
       "      <td>AFG</td>\n",
       "      <td>2017</td>\n",
       "      <td>35</td>\n",
       "    </tr>\n",
       "    <tr>\n",
       "      <th>60</th>\n",
       "      <td>AFG</td>\n",
       "      <td>2016</td>\n",
       "      <td>35</td>\n",
       "    </tr>\n",
       "  </tbody>\n",
       "</table>\n",
       "</div>"
      ],
      "text/plain": [
       "   country_code  year  wood_pulp_export_tonnes\n",
       "56          AFG  2020                       38\n",
       "57          AFG  2019                       38\n",
       "58          AFG  2018                       38\n",
       "59          AFG  2017                       35\n",
       "60          AFG  2016                       35"
      ]
     },
     "metadata": {},
     "output_type": "display_data"
    }
   ],
   "source": [
    "wood_pulp_export_data = get_filtered_data(file, 'Export Quantity', 'wood_pulp_export_tonnes')\n",
    "wood_pulp_export_data.to_csv('data/wood_pulp_export_data.csv', index=False)\n",
    "display_df_info(wood_pulp_export_data)"
   ]
  },
  {
   "attachments": {},
   "cell_type": "markdown",
   "metadata": {},
   "source": [
    "## `Imports`"
   ]
  },
  {
   "cell_type": "code",
   "execution_count": 32,
   "metadata": {},
   "outputs": [
    {
     "name": "stdout",
     "output_type": "stream",
     "text": [
      "Shape is: (6303, 3)\n"
     ]
    },
    {
     "data": {
      "text/html": [
       "<div>\n",
       "<style scoped>\n",
       "    .dataframe tbody tr th:only-of-type {\n",
       "        vertical-align: middle;\n",
       "    }\n",
       "\n",
       "    .dataframe tbody tr th {\n",
       "        vertical-align: top;\n",
       "    }\n",
       "\n",
       "    .dataframe thead th {\n",
       "        text-align: right;\n",
       "    }\n",
       "</style>\n",
       "<table border=\"1\" class=\"dataframe\">\n",
       "  <thead>\n",
       "    <tr style=\"text-align: right;\">\n",
       "      <th></th>\n",
       "      <th>country_code</th>\n",
       "      <th>year</th>\n",
       "      <th>wood_pulp_import_tonnes</th>\n",
       "    </tr>\n",
       "  </thead>\n",
       "  <tbody>\n",
       "    <tr>\n",
       "      <th>0</th>\n",
       "      <td>AFG</td>\n",
       "      <td>2020</td>\n",
       "      <td>245</td>\n",
       "    </tr>\n",
       "    <tr>\n",
       "      <th>1</th>\n",
       "      <td>AFG</td>\n",
       "      <td>2019</td>\n",
       "      <td>622</td>\n",
       "    </tr>\n",
       "    <tr>\n",
       "      <th>2</th>\n",
       "      <td>AFG</td>\n",
       "      <td>2018</td>\n",
       "      <td>127</td>\n",
       "    </tr>\n",
       "    <tr>\n",
       "      <th>3</th>\n",
       "      <td>AFG</td>\n",
       "      <td>2017</td>\n",
       "      <td>32</td>\n",
       "    </tr>\n",
       "    <tr>\n",
       "      <th>4</th>\n",
       "      <td>AFG</td>\n",
       "      <td>2016</td>\n",
       "      <td>167</td>\n",
       "    </tr>\n",
       "  </tbody>\n",
       "</table>\n",
       "</div>"
      ],
      "text/plain": [
       "  country_code  year  wood_pulp_import_tonnes\n",
       "0          AFG  2020                      245\n",
       "1          AFG  2019                      622\n",
       "2          AFG  2018                      127\n",
       "3          AFG  2017                       32\n",
       "4          AFG  2016                      167"
      ]
     },
     "metadata": {},
     "output_type": "display_data"
    }
   ],
   "source": [
    "wood_pulp_import_data = get_filtered_data(file, 'Import Quantity', 'wood_pulp_import_tonnes')\n",
    "wood_pulp_import_data.to_csv('data/wood_pulp_import_data.csv', index=False)\n",
    "display_df_info(wood_pulp_import_data)"
   ]
  },
  {
   "attachments": {},
   "cell_type": "markdown",
   "metadata": {},
   "source": [
    "# `Concat Dataframes`"
   ]
  },
  {
   "cell_type": "code",
   "execution_count": 33,
   "metadata": {},
   "outputs": [
    {
     "name": "stdout",
     "output_type": "stream",
     "text": [
      "Shape is: (11322, 8)\n"
     ]
    },
    {
     "data": {
      "text/html": [
       "<div>\n",
       "<style scoped>\n",
       "    .dataframe tbody tr th:only-of-type {\n",
       "        vertical-align: middle;\n",
       "    }\n",
       "\n",
       "    .dataframe tbody tr th {\n",
       "        vertical-align: top;\n",
       "    }\n",
       "\n",
       "    .dataframe thead th {\n",
       "        text-align: right;\n",
       "    }\n",
       "</style>\n",
       "<table border=\"1\" class=\"dataframe\">\n",
       "  <thead>\n",
       "    <tr style=\"text-align: right;\">\n",
       "      <th></th>\n",
       "      <th>country_code</th>\n",
       "      <th>year</th>\n",
       "      <th>paper_pulp_prod_tonnes</th>\n",
       "      <th>paper_pulp_export_tonnes</th>\n",
       "      <th>paper_pulp_import_tonnes</th>\n",
       "      <th>wood_pulp_production_tonnes</th>\n",
       "      <th>wood_pulp_export_tonnes</th>\n",
       "      <th>wood_pulp_import_tonnes</th>\n",
       "    </tr>\n",
       "  </thead>\n",
       "  <tbody>\n",
       "    <tr>\n",
       "      <th>0</th>\n",
       "      <td>ALB</td>\n",
       "      <td>2020</td>\n",
       "      <td>0.0</td>\n",
       "      <td>0.0</td>\n",
       "      <td>1794.0</td>\n",
       "      <td>0.0</td>\n",
       "      <td>0.0</td>\n",
       "      <td>29.0</td>\n",
       "    </tr>\n",
       "    <tr>\n",
       "      <th>1</th>\n",
       "      <td>ALB</td>\n",
       "      <td>2019</td>\n",
       "      <td>0.0</td>\n",
       "      <td>0.0</td>\n",
       "      <td>23.0</td>\n",
       "      <td>0.0</td>\n",
       "      <td>0.0</td>\n",
       "      <td>23.0</td>\n",
       "    </tr>\n",
       "    <tr>\n",
       "      <th>2</th>\n",
       "      <td>ALB</td>\n",
       "      <td>2018</td>\n",
       "      <td>0.0</td>\n",
       "      <td>0.0</td>\n",
       "      <td>1.0</td>\n",
       "      <td>0.0</td>\n",
       "      <td>0.0</td>\n",
       "      <td>1.0</td>\n",
       "    </tr>\n",
       "    <tr>\n",
       "      <th>3</th>\n",
       "      <td>ALB</td>\n",
       "      <td>2017</td>\n",
       "      <td>0.0</td>\n",
       "      <td>0.0</td>\n",
       "      <td>0.0</td>\n",
       "      <td>0.0</td>\n",
       "      <td>0.0</td>\n",
       "      <td>0.0</td>\n",
       "    </tr>\n",
       "    <tr>\n",
       "      <th>4</th>\n",
       "      <td>ALB</td>\n",
       "      <td>2016</td>\n",
       "      <td>0.0</td>\n",
       "      <td>10.0</td>\n",
       "      <td>4436.0</td>\n",
       "      <td>0.0</td>\n",
       "      <td>25.0</td>\n",
       "      <td>4465.0</td>\n",
       "    </tr>\n",
       "  </tbody>\n",
       "</table>\n",
       "</div>"
      ],
      "text/plain": [
       "  country_code  year  paper_pulp_prod_tonnes  paper_pulp_export_tonnes  \\\n",
       "0          ALB  2020                     0.0                       0.0   \n",
       "1          ALB  2019                     0.0                       0.0   \n",
       "2          ALB  2018                     0.0                       0.0   \n",
       "3          ALB  2017                     0.0                       0.0   \n",
       "4          ALB  2016                     0.0                      10.0   \n",
       "\n",
       "   paper_pulp_import_tonnes  wood_pulp_production_tonnes  \\\n",
       "0                    1794.0                          0.0   \n",
       "1                      23.0                          0.0   \n",
       "2                       1.0                          0.0   \n",
       "3                       0.0                          0.0   \n",
       "4                    4436.0                          0.0   \n",
       "\n",
       "   wood_pulp_export_tonnes  wood_pulp_import_tonnes  \n",
       "0                      0.0                     29.0  \n",
       "1                      0.0                     23.0  \n",
       "2                      0.0                      1.0  \n",
       "3                      0.0                      0.0  \n",
       "4                     25.0                   4465.0  "
      ]
     },
     "metadata": {},
     "output_type": "display_data"
    }
   ],
   "source": [
    "data = pd.merge(paper_pulp_production_data, paper_pulp_export_data, on=['country_code', 'year'], how='outer')\n",
    "data = pd.merge(data, paper_pulp_import_data, on=['country_code', 'year'], how='outer')\n",
    "\n",
    "data = pd.merge(data, wood_pulp_production_data, on=['country_code', 'year'], how='outer')\n",
    "data = pd.merge(data, wood_pulp_export_data, on=['country_code', 'year'], how='outer')\n",
    "data = pd.merge(data, wood_pulp_import_data, on=['country_code', 'year'], how='outer')\n",
    "\n",
    "display_df_info(data)"
   ]
  },
  {
   "attachments": {},
   "cell_type": "markdown",
   "metadata": {},
   "source": [
    "# `Concat Paper Prices from producer_paper_price_evolution.csv`"
   ]
  },
  {
   "cell_type": "code",
   "execution_count": 34,
   "metadata": {},
   "outputs": [
    {
     "name": "stdout",
     "output_type": "stream",
     "text": [
      "Shape is: (912, 2)\n"
     ]
    },
    {
     "data": {
      "text/html": [
       "<div>\n",
       "<style scoped>\n",
       "    .dataframe tbody tr th:only-of-type {\n",
       "        vertical-align: middle;\n",
       "    }\n",
       "\n",
       "    .dataframe tbody tr th {\n",
       "        vertical-align: top;\n",
       "    }\n",
       "\n",
       "    .dataframe thead th {\n",
       "        text-align: right;\n",
       "    }\n",
       "</style>\n",
       "<table border=\"1\" class=\"dataframe\">\n",
       "  <thead>\n",
       "    <tr style=\"text-align: right;\">\n",
       "      <th></th>\n",
       "      <th>paper_price</th>\n",
       "      <th>year</th>\n",
       "    </tr>\n",
       "  </thead>\n",
       "  <tbody>\n",
       "    <tr>\n",
       "      <th>0</th>\n",
       "      <td>19.7</td>\n",
       "      <td>1947</td>\n",
       "    </tr>\n",
       "    <tr>\n",
       "      <th>1</th>\n",
       "      <td>20.1</td>\n",
       "      <td>1947</td>\n",
       "    </tr>\n",
       "    <tr>\n",
       "      <th>2</th>\n",
       "      <td>20.1</td>\n",
       "      <td>1947</td>\n",
       "    </tr>\n",
       "    <tr>\n",
       "      <th>3</th>\n",
       "      <td>20.5</td>\n",
       "      <td>1947</td>\n",
       "    </tr>\n",
       "    <tr>\n",
       "      <th>4</th>\n",
       "      <td>20.7</td>\n",
       "      <td>1947</td>\n",
       "    </tr>\n",
       "  </tbody>\n",
       "</table>\n",
       "</div>"
      ],
      "text/plain": [
       "   paper_price  year\n",
       "0         19.7  1947\n",
       "1         20.1  1947\n",
       "2         20.1  1947\n",
       "3         20.5  1947\n",
       "4         20.7  1947"
      ]
     },
     "metadata": {},
     "output_type": "display_data"
    }
   ],
   "source": [
    "paper_price_data = pd.read_csv('wood-pulp-business/data/cleaned/producer_paper_price_evolution.csv')\n",
    "\n",
    "paper_price_data.columns = ['date', 'paper_price']\n",
    "paper_price_data['date'] = pd.to_datetime(paper_price_data['date'], errors='coerce')\n",
    "paper_price_data['year'] = paper_price_data['date'].dt.year\n",
    "paper_price_data.drop('date', axis=1, inplace=True)\n",
    "\n",
    "display_df_info(paper_price_data)"
   ]
  },
  {
   "cell_type": "code",
   "execution_count": 35,
   "metadata": {},
   "outputs": [
    {
     "name": "stdout",
     "output_type": "stream",
     "text": [
      "Shape is: (76, 2)\n"
     ]
    },
    {
     "data": {
      "text/html": [
       "<div>\n",
       "<style scoped>\n",
       "    .dataframe tbody tr th:only-of-type {\n",
       "        vertical-align: middle;\n",
       "    }\n",
       "\n",
       "    .dataframe tbody tr th {\n",
       "        vertical-align: top;\n",
       "    }\n",
       "\n",
       "    .dataframe thead th {\n",
       "        text-align: right;\n",
       "    }\n",
       "</style>\n",
       "<table border=\"1\" class=\"dataframe\">\n",
       "  <thead>\n",
       "    <tr style=\"text-align: right;\">\n",
       "      <th></th>\n",
       "      <th>year</th>\n",
       "      <th>paper_price</th>\n",
       "    </tr>\n",
       "  </thead>\n",
       "  <tbody>\n",
       "    <tr>\n",
       "      <th>0</th>\n",
       "      <td>1947</td>\n",
       "      <td>20.916667</td>\n",
       "    </tr>\n",
       "    <tr>\n",
       "      <th>1</th>\n",
       "      <td>1948</td>\n",
       "      <td>23.025000</td>\n",
       "    </tr>\n",
       "    <tr>\n",
       "      <th>2</th>\n",
       "      <td>1949</td>\n",
       "      <td>23.050000</td>\n",
       "    </tr>\n",
       "    <tr>\n",
       "      <th>3</th>\n",
       "      <td>1950</td>\n",
       "      <td>23.800000</td>\n",
       "    </tr>\n",
       "    <tr>\n",
       "      <th>4</th>\n",
       "      <td>1951</td>\n",
       "      <td>26.908333</td>\n",
       "    </tr>\n",
       "  </tbody>\n",
       "</table>\n",
       "</div>"
      ],
      "text/plain": [
       "   year  paper_price\n",
       "0  1947    20.916667\n",
       "1  1948    23.025000\n",
       "2  1949    23.050000\n",
       "3  1950    23.800000\n",
       "4  1951    26.908333"
      ]
     },
     "metadata": {},
     "output_type": "display_data"
    }
   ],
   "source": [
    "paper_price_data = paper_price_data.groupby('year')['paper_price'].mean().reset_index()\n",
    "display_df_info(paper_price_data)"
   ]
  },
  {
   "cell_type": "code",
   "execution_count": 36,
   "metadata": {},
   "outputs": [
    {
     "name": "stdout",
     "output_type": "stream",
     "text": [
      "Shape is: (11338, 9)\n"
     ]
    },
    {
     "data": {
      "text/html": [
       "<div>\n",
       "<style scoped>\n",
       "    .dataframe tbody tr th:only-of-type {\n",
       "        vertical-align: middle;\n",
       "    }\n",
       "\n",
       "    .dataframe tbody tr th {\n",
       "        vertical-align: top;\n",
       "    }\n",
       "\n",
       "    .dataframe thead th {\n",
       "        text-align: right;\n",
       "    }\n",
       "</style>\n",
       "<table border=\"1\" class=\"dataframe\">\n",
       "  <thead>\n",
       "    <tr style=\"text-align: right;\">\n",
       "      <th></th>\n",
       "      <th>country_code</th>\n",
       "      <th>year</th>\n",
       "      <th>paper_pulp_prod_tonnes</th>\n",
       "      <th>paper_pulp_export_tonnes</th>\n",
       "      <th>paper_pulp_import_tonnes</th>\n",
       "      <th>wood_pulp_production_tonnes</th>\n",
       "      <th>wood_pulp_export_tonnes</th>\n",
       "      <th>wood_pulp_import_tonnes</th>\n",
       "      <th>paper_price</th>\n",
       "    </tr>\n",
       "  </thead>\n",
       "  <tbody>\n",
       "    <tr>\n",
       "      <th>0</th>\n",
       "      <td>ALB</td>\n",
       "      <td>2020</td>\n",
       "      <td>0.0</td>\n",
       "      <td>0.0</td>\n",
       "      <td>1794.0</td>\n",
       "      <td>0.0</td>\n",
       "      <td>0.0</td>\n",
       "      <td>29.0</td>\n",
       "      <td>190.983333</td>\n",
       "    </tr>\n",
       "    <tr>\n",
       "      <th>1</th>\n",
       "      <td>DZA</td>\n",
       "      <td>2020</td>\n",
       "      <td>2000.0</td>\n",
       "      <td>24.0</td>\n",
       "      <td>102614.0</td>\n",
       "      <td>NaN</td>\n",
       "      <td>24.0</td>\n",
       "      <td>102617.0</td>\n",
       "      <td>190.983333</td>\n",
       "    </tr>\n",
       "    <tr>\n",
       "      <th>2</th>\n",
       "      <td>AGO</td>\n",
       "      <td>2020</td>\n",
       "      <td>0.0</td>\n",
       "      <td>706.0</td>\n",
       "      <td>17642.0</td>\n",
       "      <td>0.0</td>\n",
       "      <td>706.0</td>\n",
       "      <td>17643.0</td>\n",
       "      <td>190.983333</td>\n",
       "    </tr>\n",
       "    <tr>\n",
       "      <th>3</th>\n",
       "      <td>ARG</td>\n",
       "      <td>2020</td>\n",
       "      <td>733000.0</td>\n",
       "      <td>193689.0</td>\n",
       "      <td>238613.0</td>\n",
       "      <td>620000.0</td>\n",
       "      <td>193670.0</td>\n",
       "      <td>238536.0</td>\n",
       "      <td>190.983333</td>\n",
       "    </tr>\n",
       "    <tr>\n",
       "      <th>4</th>\n",
       "      <td>ARM</td>\n",
       "      <td>2020</td>\n",
       "      <td>0.0</td>\n",
       "      <td>0.0</td>\n",
       "      <td>43.0</td>\n",
       "      <td>0.0</td>\n",
       "      <td>0.0</td>\n",
       "      <td>33.0</td>\n",
       "      <td>190.983333</td>\n",
       "    </tr>\n",
       "  </tbody>\n",
       "</table>\n",
       "</div>"
      ],
      "text/plain": [
       "  country_code  year  paper_pulp_prod_tonnes  paper_pulp_export_tonnes  \\\n",
       "0          ALB  2020                     0.0                       0.0   \n",
       "1          DZA  2020                  2000.0                      24.0   \n",
       "2          AGO  2020                     0.0                     706.0   \n",
       "3          ARG  2020                733000.0                  193689.0   \n",
       "4          ARM  2020                     0.0                       0.0   \n",
       "\n",
       "   paper_pulp_import_tonnes  wood_pulp_production_tonnes  \\\n",
       "0                    1794.0                          0.0   \n",
       "1                  102614.0                          NaN   \n",
       "2                   17642.0                          0.0   \n",
       "3                  238613.0                     620000.0   \n",
       "4                      43.0                          0.0   \n",
       "\n",
       "   wood_pulp_export_tonnes  wood_pulp_import_tonnes  paper_price  \n",
       "0                      0.0                     29.0   190.983333  \n",
       "1                     24.0                 102617.0   190.983333  \n",
       "2                    706.0                  17643.0   190.983333  \n",
       "3                 193670.0                 238536.0   190.983333  \n",
       "4                      0.0                     33.0   190.983333  "
      ]
     },
     "metadata": {},
     "output_type": "display_data"
    }
   ],
   "source": [
    "data = pd.merge(data, paper_price_data, on=['year'], how='outer')\n",
    "display_df_info(data)"
   ]
  },
  {
   "attachments": {},
   "cell_type": "markdown",
   "metadata": {},
   "source": [
    "# `Concat Wood Pulp Prices from producer_wood_pulp_price_evolution.csv`"
   ]
  },
  {
   "cell_type": "code",
   "execution_count": 37,
   "metadata": {},
   "outputs": [
    {
     "name": "stdout",
     "output_type": "stream",
     "text": [
      "Shape is: (1164, 2)\n"
     ]
    },
    {
     "data": {
      "text/html": [
       "<div>\n",
       "<style scoped>\n",
       "    .dataframe tbody tr th:only-of-type {\n",
       "        vertical-align: middle;\n",
       "    }\n",
       "\n",
       "    .dataframe tbody tr th {\n",
       "        vertical-align: top;\n",
       "    }\n",
       "\n",
       "    .dataframe thead th {\n",
       "        text-align: right;\n",
       "    }\n",
       "</style>\n",
       "<table border=\"1\" class=\"dataframe\">\n",
       "  <thead>\n",
       "    <tr style=\"text-align: right;\">\n",
       "      <th></th>\n",
       "      <th>wood_pulp_price</th>\n",
       "      <th>year</th>\n",
       "    </tr>\n",
       "  </thead>\n",
       "  <tbody>\n",
       "    <tr>\n",
       "      <th>0</th>\n",
       "      <td>10.3</td>\n",
       "      <td>1926</td>\n",
       "    </tr>\n",
       "    <tr>\n",
       "      <th>1</th>\n",
       "      <td>10.3</td>\n",
       "      <td>1926</td>\n",
       "    </tr>\n",
       "    <tr>\n",
       "      <th>2</th>\n",
       "      <td>10.4</td>\n",
       "      <td>1926</td>\n",
       "    </tr>\n",
       "    <tr>\n",
       "      <th>3</th>\n",
       "      <td>10.4</td>\n",
       "      <td>1926</td>\n",
       "    </tr>\n",
       "    <tr>\n",
       "      <th>4</th>\n",
       "      <td>10.4</td>\n",
       "      <td>1926</td>\n",
       "    </tr>\n",
       "  </tbody>\n",
       "</table>\n",
       "</div>"
      ],
      "text/plain": [
       "   wood_pulp_price  year\n",
       "0             10.3  1926\n",
       "1             10.3  1926\n",
       "2             10.4  1926\n",
       "3             10.4  1926\n",
       "4             10.4  1926"
      ]
     },
     "metadata": {},
     "output_type": "display_data"
    }
   ],
   "source": [
    "wood_pulp_price_data = pd.read_csv('wood-pulp-business/data/cleaned/producer_wood_pulp_price_evolution.csv')\n",
    "\n",
    "wood_pulp_price_data.columns = ['date', 'wood_pulp_price']\n",
    "wood_pulp_price_data['date'] = pd.to_datetime(wood_pulp_price_data['date'], errors='coerce')\n",
    "wood_pulp_price_data['year'] = wood_pulp_price_data['date'].dt.year\n",
    "wood_pulp_price_data.drop('date', axis=1, inplace=True)\n",
    "\n",
    "display_df_info(wood_pulp_price_data)"
   ]
  },
  {
   "cell_type": "code",
   "execution_count": 38,
   "metadata": {},
   "outputs": [
    {
     "name": "stdout",
     "output_type": "stream",
     "text": [
      "Shape is: (97, 2)\n"
     ]
    },
    {
     "data": {
      "text/html": [
       "<div>\n",
       "<style scoped>\n",
       "    .dataframe tbody tr th:only-of-type {\n",
       "        vertical-align: middle;\n",
       "    }\n",
       "\n",
       "    .dataframe tbody tr th {\n",
       "        vertical-align: top;\n",
       "    }\n",
       "\n",
       "    .dataframe thead th {\n",
       "        text-align: right;\n",
       "    }\n",
       "</style>\n",
       "<table border=\"1\" class=\"dataframe\">\n",
       "  <thead>\n",
       "    <tr style=\"text-align: right;\">\n",
       "      <th></th>\n",
       "      <th>year</th>\n",
       "      <th>wood_pulp_price</th>\n",
       "    </tr>\n",
       "  </thead>\n",
       "  <tbody>\n",
       "    <tr>\n",
       "      <th>0</th>\n",
       "      <td>1926</td>\n",
       "      <td>10.100000</td>\n",
       "    </tr>\n",
       "    <tr>\n",
       "      <th>1</th>\n",
       "      <td>1927</td>\n",
       "      <td>9.316667</td>\n",
       "    </tr>\n",
       "    <tr>\n",
       "      <th>2</th>\n",
       "      <td>1928</td>\n",
       "      <td>8.966667</td>\n",
       "    </tr>\n",
       "    <tr>\n",
       "      <th>3</th>\n",
       "      <td>1929</td>\n",
       "      <td>8.925000</td>\n",
       "    </tr>\n",
       "    <tr>\n",
       "      <th>4</th>\n",
       "      <td>1930</td>\n",
       "      <td>8.741667</td>\n",
       "    </tr>\n",
       "  </tbody>\n",
       "</table>\n",
       "</div>"
      ],
      "text/plain": [
       "   year  wood_pulp_price\n",
       "0  1926        10.100000\n",
       "1  1927         9.316667\n",
       "2  1928         8.966667\n",
       "3  1929         8.925000\n",
       "4  1930         8.741667"
      ]
     },
     "metadata": {},
     "output_type": "display_data"
    }
   ],
   "source": [
    "wood_pulp_price_data = wood_pulp_price_data.groupby('year')['wood_pulp_price'].mean().reset_index()\n",
    "display_df_info(wood_pulp_price_data)"
   ]
  },
  {
   "cell_type": "code",
   "execution_count": 39,
   "metadata": {},
   "outputs": [
    {
     "name": "stdout",
     "output_type": "stream",
     "text": [
      "Shape is: (11359, 10)\n"
     ]
    },
    {
     "data": {
      "text/html": [
       "<div>\n",
       "<style scoped>\n",
       "    .dataframe tbody tr th:only-of-type {\n",
       "        vertical-align: middle;\n",
       "    }\n",
       "\n",
       "    .dataframe tbody tr th {\n",
       "        vertical-align: top;\n",
       "    }\n",
       "\n",
       "    .dataframe thead th {\n",
       "        text-align: right;\n",
       "    }\n",
       "</style>\n",
       "<table border=\"1\" class=\"dataframe\">\n",
       "  <thead>\n",
       "    <tr style=\"text-align: right;\">\n",
       "      <th></th>\n",
       "      <th>country_code</th>\n",
       "      <th>year</th>\n",
       "      <th>paper_pulp_prod_tonnes</th>\n",
       "      <th>paper_pulp_export_tonnes</th>\n",
       "      <th>paper_pulp_import_tonnes</th>\n",
       "      <th>wood_pulp_production_tonnes</th>\n",
       "      <th>wood_pulp_export_tonnes</th>\n",
       "      <th>wood_pulp_import_tonnes</th>\n",
       "      <th>paper_price</th>\n",
       "      <th>wood_pulp_price</th>\n",
       "    </tr>\n",
       "  </thead>\n",
       "  <tbody>\n",
       "    <tr>\n",
       "      <th>0</th>\n",
       "      <td>ALB</td>\n",
       "      <td>2020</td>\n",
       "      <td>0.0</td>\n",
       "      <td>0.0</td>\n",
       "      <td>1794.0</td>\n",
       "      <td>0.0</td>\n",
       "      <td>0.0</td>\n",
       "      <td>29.0</td>\n",
       "      <td>190.983333</td>\n",
       "      <td>141.641667</td>\n",
       "    </tr>\n",
       "    <tr>\n",
       "      <th>1</th>\n",
       "      <td>DZA</td>\n",
       "      <td>2020</td>\n",
       "      <td>2000.0</td>\n",
       "      <td>24.0</td>\n",
       "      <td>102614.0</td>\n",
       "      <td>NaN</td>\n",
       "      <td>24.0</td>\n",
       "      <td>102617.0</td>\n",
       "      <td>190.983333</td>\n",
       "      <td>141.641667</td>\n",
       "    </tr>\n",
       "    <tr>\n",
       "      <th>2</th>\n",
       "      <td>AGO</td>\n",
       "      <td>2020</td>\n",
       "      <td>0.0</td>\n",
       "      <td>706.0</td>\n",
       "      <td>17642.0</td>\n",
       "      <td>0.0</td>\n",
       "      <td>706.0</td>\n",
       "      <td>17643.0</td>\n",
       "      <td>190.983333</td>\n",
       "      <td>141.641667</td>\n",
       "    </tr>\n",
       "    <tr>\n",
       "      <th>3</th>\n",
       "      <td>ARG</td>\n",
       "      <td>2020</td>\n",
       "      <td>733000.0</td>\n",
       "      <td>193689.0</td>\n",
       "      <td>238613.0</td>\n",
       "      <td>620000.0</td>\n",
       "      <td>193670.0</td>\n",
       "      <td>238536.0</td>\n",
       "      <td>190.983333</td>\n",
       "      <td>141.641667</td>\n",
       "    </tr>\n",
       "    <tr>\n",
       "      <th>4</th>\n",
       "      <td>ARM</td>\n",
       "      <td>2020</td>\n",
       "      <td>0.0</td>\n",
       "      <td>0.0</td>\n",
       "      <td>43.0</td>\n",
       "      <td>0.0</td>\n",
       "      <td>0.0</td>\n",
       "      <td>33.0</td>\n",
       "      <td>190.983333</td>\n",
       "      <td>141.641667</td>\n",
       "    </tr>\n",
       "  </tbody>\n",
       "</table>\n",
       "</div>"
      ],
      "text/plain": [
       "  country_code  year  paper_pulp_prod_tonnes  paper_pulp_export_tonnes  \\\n",
       "0          ALB  2020                     0.0                       0.0   \n",
       "1          DZA  2020                  2000.0                      24.0   \n",
       "2          AGO  2020                     0.0                     706.0   \n",
       "3          ARG  2020                733000.0                  193689.0   \n",
       "4          ARM  2020                     0.0                       0.0   \n",
       "\n",
       "   paper_pulp_import_tonnes  wood_pulp_production_tonnes  \\\n",
       "0                    1794.0                          0.0   \n",
       "1                  102614.0                          NaN   \n",
       "2                   17642.0                          0.0   \n",
       "3                  238613.0                     620000.0   \n",
       "4                      43.0                          0.0   \n",
       "\n",
       "   wood_pulp_export_tonnes  wood_pulp_import_tonnes  paper_price  \\\n",
       "0                      0.0                     29.0   190.983333   \n",
       "1                     24.0                 102617.0   190.983333   \n",
       "2                    706.0                  17643.0   190.983333   \n",
       "3                 193670.0                 238536.0   190.983333   \n",
       "4                      0.0                     33.0   190.983333   \n",
       "\n",
       "   wood_pulp_price  \n",
       "0       141.641667  \n",
       "1       141.641667  \n",
       "2       141.641667  \n",
       "3       141.641667  \n",
       "4       141.641667  "
      ]
     },
     "metadata": {},
     "output_type": "display_data"
    }
   ],
   "source": [
    "data = pd.merge(data, wood_pulp_price_data, on=['year'], how='outer')\n",
    "display_df_info(data)"
   ]
  },
  {
   "attachments": {},
   "cell_type": "markdown",
   "metadata": {},
   "source": [
    "# `Work on the model`"
   ]
  },
  {
   "cell_type": "code",
   "execution_count": 40,
   "metadata": {},
   "outputs": [],
   "source": [
    "data.to_csv('data/data.csv', index=False)"
   ]
  },
  {
   "cell_type": "code",
   "execution_count": 41,
   "metadata": {},
   "outputs": [],
   "source": [
    "cols = ['paper_pulp_prod_tonnes', 'paper_pulp_export_tonnes', 'paper_pulp_import_tonnes', 'wood_pulp_production_tonnes', 'wood_pulp_export_tonnes', 'wood_pulp_import_tonnes', 'paper_price']\n",
    "\n",
    "for col in cols:\n",
    "    data = fill_na_with_mean(data, col)"
   ]
  },
  {
   "cell_type": "code",
   "execution_count": 42,
   "metadata": {},
   "outputs": [
    {
     "data": {
      "text/plain": [
       "country_code                   37\n",
       "year                            0\n",
       "paper_pulp_prod_tonnes          0\n",
       "paper_pulp_export_tonnes        0\n",
       "paper_pulp_import_tonnes        0\n",
       "wood_pulp_production_tonnes     0\n",
       "wood_pulp_export_tonnes         0\n",
       "wood_pulp_import_tonnes         0\n",
       "paper_price                     0\n",
       "wood_pulp_price                 0\n",
       "dtype: int64"
      ]
     },
     "execution_count": 42,
     "metadata": {},
     "output_type": "execute_result"
    }
   ],
   "source": [
    "data.isna().sum()"
   ]
  },
  {
   "cell_type": "code",
   "execution_count": 43,
   "metadata": {},
   "outputs": [],
   "source": [
    "data.drop('country_code', axis=1, inplace=True)"
   ]
  },
  {
   "cell_type": "code",
   "execution_count": 44,
   "metadata": {},
   "outputs": [
    {
     "name": "stdout",
     "output_type": "stream",
     "text": [
      "Shape is: (11359, 9)\n"
     ]
    },
    {
     "data": {
      "text/html": [
       "<div>\n",
       "<style scoped>\n",
       "    .dataframe tbody tr th:only-of-type {\n",
       "        vertical-align: middle;\n",
       "    }\n",
       "\n",
       "    .dataframe tbody tr th {\n",
       "        vertical-align: top;\n",
       "    }\n",
       "\n",
       "    .dataframe thead th {\n",
       "        text-align: right;\n",
       "    }\n",
       "</style>\n",
       "<table border=\"1\" class=\"dataframe\">\n",
       "  <thead>\n",
       "    <tr style=\"text-align: right;\">\n",
       "      <th></th>\n",
       "      <th>year</th>\n",
       "      <th>paper_pulp_prod_tonnes</th>\n",
       "      <th>paper_pulp_export_tonnes</th>\n",
       "      <th>paper_pulp_import_tonnes</th>\n",
       "      <th>wood_pulp_production_tonnes</th>\n",
       "      <th>wood_pulp_export_tonnes</th>\n",
       "      <th>wood_pulp_import_tonnes</th>\n",
       "      <th>paper_price</th>\n",
       "      <th>wood_pulp_price</th>\n",
       "    </tr>\n",
       "  </thead>\n",
       "  <tbody>\n",
       "    <tr>\n",
       "      <th>0</th>\n",
       "      <td>2020</td>\n",
       "      <td>0.0</td>\n",
       "      <td>0.0</td>\n",
       "      <td>1794.0</td>\n",
       "      <td>0.000000e+00</td>\n",
       "      <td>0.0</td>\n",
       "      <td>29.0</td>\n",
       "      <td>190.983333</td>\n",
       "      <td>141.641667</td>\n",
       "    </tr>\n",
       "    <tr>\n",
       "      <th>1</th>\n",
       "      <td>2020</td>\n",
       "      <td>2000.0</td>\n",
       "      <td>24.0</td>\n",
       "      <td>102614.0</td>\n",
       "      <td>2.989767e+06</td>\n",
       "      <td>24.0</td>\n",
       "      <td>102617.0</td>\n",
       "      <td>190.983333</td>\n",
       "      <td>141.641667</td>\n",
       "    </tr>\n",
       "    <tr>\n",
       "      <th>2</th>\n",
       "      <td>2020</td>\n",
       "      <td>0.0</td>\n",
       "      <td>706.0</td>\n",
       "      <td>17642.0</td>\n",
       "      <td>0.000000e+00</td>\n",
       "      <td>706.0</td>\n",
       "      <td>17643.0</td>\n",
       "      <td>190.983333</td>\n",
       "      <td>141.641667</td>\n",
       "    </tr>\n",
       "    <tr>\n",
       "      <th>3</th>\n",
       "      <td>2020</td>\n",
       "      <td>733000.0</td>\n",
       "      <td>193689.0</td>\n",
       "      <td>238613.0</td>\n",
       "      <td>6.200000e+05</td>\n",
       "      <td>193670.0</td>\n",
       "      <td>238536.0</td>\n",
       "      <td>190.983333</td>\n",
       "      <td>141.641667</td>\n",
       "    </tr>\n",
       "    <tr>\n",
       "      <th>4</th>\n",
       "      <td>2020</td>\n",
       "      <td>0.0</td>\n",
       "      <td>0.0</td>\n",
       "      <td>43.0</td>\n",
       "      <td>0.000000e+00</td>\n",
       "      <td>0.0</td>\n",
       "      <td>33.0</td>\n",
       "      <td>190.983333</td>\n",
       "      <td>141.641667</td>\n",
       "    </tr>\n",
       "  </tbody>\n",
       "</table>\n",
       "</div>"
      ],
      "text/plain": [
       "   year  paper_pulp_prod_tonnes  paper_pulp_export_tonnes  \\\n",
       "0  2020                     0.0                       0.0   \n",
       "1  2020                  2000.0                      24.0   \n",
       "2  2020                     0.0                     706.0   \n",
       "3  2020                733000.0                  193689.0   \n",
       "4  2020                     0.0                       0.0   \n",
       "\n",
       "   paper_pulp_import_tonnes  wood_pulp_production_tonnes  \\\n",
       "0                    1794.0                 0.000000e+00   \n",
       "1                  102614.0                 2.989767e+06   \n",
       "2                   17642.0                 0.000000e+00   \n",
       "3                  238613.0                 6.200000e+05   \n",
       "4                      43.0                 0.000000e+00   \n",
       "\n",
       "   wood_pulp_export_tonnes  wood_pulp_import_tonnes  paper_price  \\\n",
       "0                      0.0                     29.0   190.983333   \n",
       "1                     24.0                 102617.0   190.983333   \n",
       "2                    706.0                  17643.0   190.983333   \n",
       "3                 193670.0                 238536.0   190.983333   \n",
       "4                      0.0                     33.0   190.983333   \n",
       "\n",
       "   wood_pulp_price  \n",
       "0       141.641667  \n",
       "1       141.641667  \n",
       "2       141.641667  \n",
       "3       141.641667  \n",
       "4       141.641667  "
      ]
     },
     "metadata": {},
     "output_type": "display_data"
    }
   ],
   "source": [
    "display_df_info(data)"
   ]
  },
  {
   "cell_type": "code",
   "execution_count": 45,
   "metadata": {},
   "outputs": [],
   "source": [
    "data.to_csv('data/data_cleaned.csv', index=False)"
   ]
  },
  {
   "attachments": {},
   "cell_type": "markdown",
   "metadata": {},
   "source": [
    "## `Check correlations`"
   ]
  },
  {
   "cell_type": "code",
   "execution_count": null,
   "metadata": {},
   "outputs": [],
   "source": [
    "display_heatmap(data)"
   ]
  },
  {
   "attachments": {},
   "cell_type": "markdown",
   "metadata": {},
   "source": [
    "## `Test algorithms`"
   ]
  },
  {
   "cell_type": "code",
   "execution_count": null,
   "metadata": {},
   "outputs": [],
   "source": [
    "models_to_test = [\n",
    "    LinearRegression(n_jobs=-1),\n",
    "    Lasso(),\n",
    "    Ridge(),\n",
    "    ElasticNet(),\n",
    "    XGBRegressor(),\n",
    "    LGBMRegressor(n_jobs=-1),\n",
    "    DecisionTreeRegressor(),\n",
    "    KNeighborsRegressor(n_jobs=-1),\n",
    "    MLPRegressor(),\n",
    "    RandomForestRegressor(n_jobs=-1)\n",
    "]"
   ]
  },
  {
   "cell_type": "code",
   "execution_count": null,
   "metadata": {},
   "outputs": [],
   "source": [
    "results_paper_price = compare_models(models=models_to_test, dataframe=data.drop('wood_pulp_price', axis=1), label='paper_price')\n",
    "display_ordered_rmse(results_paper_price['summary'])"
   ]
  },
  {
   "cell_type": "code",
   "execution_count": null,
   "metadata": {},
   "outputs": [],
   "source": [
    "# LinearRegression(n_jobs=-1) seems the best\n",
    "\n",
    "paper_price_model_with_scaler = results_paper_price['models'][0]\n",
    "\n",
    "with open(f'data/models/paper_price_model_with_scaler.pkl', 'wb') as file:\n",
    "    pickle.dump(paper_price_model_with_scaler, file)"
   ]
  },
  {
   "cell_type": "code",
   "execution_count": null,
   "metadata": {},
   "outputs": [],
   "source": [
    "results_wood_pulp_price = compare_models(models=models_to_test, dataframe=data.drop('paper_price', axis=1), label='wood_pulp_price')\n",
    "display_ordered_rmse(results_wood_pulp_price['summary'])"
   ]
  },
  {
   "cell_type": "code",
   "execution_count": null,
   "metadata": {},
   "outputs": [],
   "source": [
    "# KNeighborsRegressor(n_jobs=-1) seems the best\n",
    "\n",
    "wood_pulp_price_model_with_scaler = results_wood_pulp_price['models'][-3]\n",
    "\n",
    "with open(f'data/models/wood_pulp_price_model_with_scaler.pkl', 'wb') as file:\n",
    "    pickle.dump(wood_pulp_price_model_with_scaler, file)"
   ]
  }
 ],
 "metadata": {
  "kernelspec": {
   "display_name": "base",
   "language": "python",
   "name": "python3"
  },
  "language_info": {
   "codemirror_mode": {
    "name": "ipython",
    "version": 3
   },
   "file_extension": ".py",
   "mimetype": "text/x-python",
   "name": "python",
   "nbconvert_exporter": "python",
   "pygments_lexer": "ipython3",
   "version": "3.9.13"
  },
  "orig_nbformat": 4,
  "vscode": {
   "interpreter": {
    "hash": "40d3a090f54c6569ab1632332b64b2c03c39dcf918b08424e98f38b5ae0af88f"
   }
  }
 },
 "nbformat": 4,
 "nbformat_minor": 2
}
